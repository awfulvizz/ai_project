{
 "cells": [
  {
   "cell_type": "code",
   "execution_count": 215,
   "outputs": [],
   "source": [
    "# Load EDA Pkgs\n",
    "import pandas as pd\n",
    "import numpy as np"
   ],
   "metadata": {
    "collapsed": false,
    "pycharm": {
     "name": "#%%\n"
    }
   }
  },
  {
   "cell_type": "code",
   "execution_count": 216,
   "outputs": [],
   "source": [
    "# Load Data Viz Pkgs\n",
    "import matplotlib.pyplot as plt\n",
    "import seaborn as sns"
   ],
   "metadata": {
    "collapsed": false,
    "pycharm": {
     "name": "#%%\n"
    }
   }
  },
  {
   "cell_type": "code",
   "execution_count": 217,
   "outputs": [],
   "source": [
    "# ML Pkgs\n",
    "from sklearn.linear_model import LogisticRegression\n",
    "from sklearn.neighbors import KNeighborsClassifier\n",
    "from sklearn.tree import DecisionTreeClassifier\n",
    "from sklearn.naive_bayes import GaussianNB,MultinomialNB\n",
    "from sklearn.metrics import accuracy_score,hamming_loss,classification_report"
   ],
   "metadata": {
    "collapsed": false,
    "pycharm": {
     "name": "#%%\n"
    }
   }
  },
  {
   "cell_type": "code",
   "execution_count": 218,
   "outputs": [],
   "source": [
    "### Split Dataset into Train and Text\n",
    "from sklearn.model_selection import train_test_split\n",
    "# Feature engineering\n",
    "from sklearn.feature_extraction.text import TfidfVectorizer"
   ],
   "metadata": {
    "collapsed": false,
    "pycharm": {
     "name": "#%%\n"
    }
   }
  },
  {
   "cell_type": "code",
   "execution_count": 219,
   "outputs": [],
   "source": [
    "# Multi Label Pkgs\n",
    "from skmultilearn.problem_transform import BinaryRelevance\n",
    "from skmultilearn.problem_transform import ClassifierChain\n",
    "from skmultilearn.problem_transform import LabelPowerset\n",
    "from skmultilearn.adapt import MLkNN"
   ],
   "metadata": {
    "collapsed": false,
    "pycharm": {
     "name": "#%%\n"
    }
   }
  },
  {
   "cell_type": "code",
   "execution_count": 220,
   "outputs": [],
   "source": [
    "df = pd.read_csv(\"data.csv\")"
   ],
   "metadata": {
    "collapsed": false,
    "pycharm": {
     "name": "#%%\n"
    }
   }
  },
  {
   "cell_type": "code",
   "execution_count": 221,
   "outputs": [
    {
     "data": {
      "text/plain": "                                                text label\n0              fell, persistant anterior/medial pain  knee\n1  pain on weight-bearing, tender suprapatellar a...  knee\n2               giving way, locking, swelling R knee  knee\n3    medial meniscectomy and now locking knee? tear?  knee\n4                                ACL tear clinically  knee",
      "text/html": "<div>\n<style scoped>\n    .dataframe tbody tr th:only-of-type {\n        vertical-align: middle;\n    }\n\n    .dataframe tbody tr th {\n        vertical-align: top;\n    }\n\n    .dataframe thead th {\n        text-align: right;\n    }\n</style>\n<table border=\"1\" class=\"dataframe\">\n  <thead>\n    <tr style=\"text-align: right;\">\n      <th></th>\n      <th>text</th>\n      <th>label</th>\n    </tr>\n  </thead>\n  <tbody>\n    <tr>\n      <th>0</th>\n      <td>fell, persistant anterior/medial pain</td>\n      <td>knee</td>\n    </tr>\n    <tr>\n      <th>1</th>\n      <td>pain on weight-bearing, tender suprapatellar a...</td>\n      <td>knee</td>\n    </tr>\n    <tr>\n      <th>2</th>\n      <td>giving way, locking, swelling R knee</td>\n      <td>knee</td>\n    </tr>\n    <tr>\n      <th>3</th>\n      <td>medial meniscectomy and now locking knee? tear?</td>\n      <td>knee</td>\n    </tr>\n    <tr>\n      <th>4</th>\n      <td>ACL tear clinically</td>\n      <td>knee</td>\n    </tr>\n  </tbody>\n</table>\n</div>"
     },
     "execution_count": 221,
     "metadata": {},
     "output_type": "execute_result"
    }
   ],
   "source": [
    "df.head()"
   ],
   "metadata": {
    "collapsed": false,
    "pycharm": {
     "name": "#%%\n"
    }
   }
  },
  {
   "cell_type": "code",
   "execution_count": 222,
   "outputs": [
    {
     "data": {
      "text/plain": "'fell, persistant anterior/medial pain'"
     },
     "execution_count": 222,
     "metadata": {},
     "output_type": "execute_result"
    }
   ],
   "source": [
    "df.loc[0].text"
   ],
   "metadata": {
    "collapsed": false,
    "pycharm": {
     "name": "#%%\n"
    }
   }
  },
  {
   "cell_type": "code",
   "execution_count": 223,
   "outputs": [
    {
     "data": {
      "text/plain": "text     object\nlabel    object\ndtype: object"
     },
     "execution_count": 223,
     "metadata": {},
     "output_type": "execute_result"
    }
   ],
   "source": [
    "df.dtypes"
   ],
   "metadata": {
    "collapsed": false,
    "pycharm": {
     "name": "#%%\n"
    }
   }
  },
  {
   "cell_type": "code",
   "execution_count": 224,
   "outputs": [
    {
     "data": {
      "text/plain": "text     object\nlabel    object\ndtype: object"
     },
     "execution_count": 224,
     "metadata": {},
     "output_type": "execute_result"
    }
   ],
   "source": [
    "df.dtypes"
   ],
   "metadata": {
    "collapsed": false,
    "pycharm": {
     "name": "#%%\n"
    }
   }
  },
  {
   "cell_type": "code",
   "execution_count": 225,
   "outputs": [
    {
     "name": "stderr",
     "output_type": "stream",
     "text": [
      "c:\\users\\jorda\\pycharmprojects\\pythonproject\\venv\\lib\\site-packages\\seaborn\\_decorators.py:36: FutureWarning: Pass the following variable as a keyword arg: x. From version 0.12, the only valid positional argument will be `data`, and passing other arguments without an explicit keyword will result in an error or misinterpretation.\n",
      "  warnings.warn(\n"
     ]
    },
    {
     "data": {
      "text/plain": "<AxesSubplot:xlabel='label', ylabel='count'>"
     },
     "execution_count": 225,
     "metadata": {},
     "output_type": "execute_result"
    },
    {
     "data": {
      "text/plain": "<Figure size 432x288 with 1 Axes>",
      "image/png": "[encoded data removed]"
     },
     "metadata": {
      "needs_background": "light"
     },
     "output_type": "display_data"
    }
   ],
   "source": [
    "sns.countplot(df['label'])"
   ],
   "metadata": {
    "collapsed": false,
    "pycharm": {
     "name": "#%%\n"
    }
   }
  },
  {
   "cell_type": "code",
   "execution_count": 226,
   "outputs": [
    {
     "data": {
      "text/plain": "knee                                   87\nshoulder                               49\nankle                                  13\nhip                                    12\nwrist                                  12\nTumour with Gad and Subtractions       11\ntumour                                  9\nfoot                                    9\nelbow                                   8\nhand                                    6\nfemur                                   4\nhumerus                                 3\nfinger                                  3\nachilles tendon                         3\nTumour + Subtractions, Vit E marker     2\ntib/tib                                 2\nsternum                                 2\nsholder                                 1\nHand                                    1\nmultiple myeloma                        1\nSI joint                                1\nforearm                                 1\nSI joints                               1\nl-spine                                 1\nMortons Neuroma                         1\nhips                                    1\nboth shoulders                          1\nshoulder & elbow                        1\nmortens neuroma                         1\ntoes                                    1\nMyopathy                                1\nhumers with Gad                         1\nhumers                                  1\nbilateral hips                          1\nankle                                   1\nfoot                                    1\nbicep tear                              1\nthumb                                   1\nknee                                    1\nmortons neuroma                         1\nmortons neuroma                         1\nmyopathy                                1\nName: label, dtype: int64"
     },
     "execution_count": 226,
     "metadata": {},
     "output_type": "execute_result"
    }
   ],
   "source": [
    "df['label'].value_counts()"
   ],
   "metadata": {
    "collapsed": false,
    "pycharm": {
     "name": "#%%\n"
    }
   }
  },
  {
   "cell_type": "code",
   "execution_count": 227,
   "outputs": [
    {
     "data": {
      "text/plain": "<AxesSubplot:ylabel='Frequency'>"
     },
     "execution_count": 227,
     "metadata": {},
     "output_type": "execute_result"
    },
    {
     "data": {
      "text/plain": "<Figure size 432x288 with 1 Axes>",
      "image/png": "[encoded data removed]"
     },
     "metadata": {
      "needs_background": "light"
     },
     "output_type": "display_data"
    }
   ],
   "source": [
    "df['label'].value_counts().plot(kind=\"hist\")"
   ],
   "metadata": {
    "collapsed": false,
    "pycharm": {
     "name": "#%%\n"
    }
   }
  },
  {
   "cell_type": "code",
   "execution_count": 228,
   "outputs": [],
   "source": [
    "import neattext as nt\n",
    "import neattext.functions as nfx"
   ],
   "metadata": {
    "collapsed": false,
    "pycharm": {
     "name": "#%%\n"
    }
   }
  },
  {
   "cell_type": "code",
   "execution_count": 229,
   "outputs": [
    {
     "name": "stdout",
     "output_type": "stream",
     "text": [
      "0                  fell, persistant anterior/medial pain\n",
      "1      pain on weight-bearing, tender suprapatellar a...\n",
      "2                   giving way, locking, swelling R knee\n",
      "3        medial meniscectomy and now locking knee? tear?\n",
      "4                                    ACL tear clinically\n",
      "                             ...                        \n",
      "255                  tibail plateau fracture, mri assess\n",
      "256                                sarcoma rule out mass\n",
      "257                                achilles rupture, mri\n",
      "258                                    rule out myopathy\n",
      "259                                   fratured phalange \n",
      "Name: text, Length: 260, dtype: object\n"
     ]
    },
    {
     "data": {
      "text/plain": "0      {'text_noise': 5.405405405405405, 'text_length...\n1      {'text_noise': 7.792207792207792, 'text_length...\n2      {'text_noise': 5.555555555555555, 'text_length...\n3      {'text_noise': 8.51063829787234, 'text_length'...\n4      {'text_noise': 0, 'text_length': 19, 'noise_co...\n                             ...                        \n255    {'text_noise': 2.857142857142857, 'text_length...\n256    {'text_noise': 4.761904761904762, 'text_length...\n257    {'text_noise': 4.761904761904762, 'text_length...\n258    {'text_noise': 5.88235294117647, 'text_length'...\n259    {'text_noise': 0, 'text_length': 18, 'noise_co...\nName: text, Length: 260, dtype: object"
     },
     "execution_count": 229,
     "metadata": {},
     "output_type": "execute_result"
    }
   ],
   "source": [
    "print(df[\"text\"])\n",
    "# Explore For Noise\n",
    "df['text'].apply(lambda x:nt.TextFrame(x).noise_scan())"
   ],
   "metadata": {
    "collapsed": false,
    "pycharm": {
     "name": "#%%\n"
    }
   }
  },
  {
   "cell_type": "code",
   "execution_count": 230,
   "outputs": [
    {
     "data": {
      "text/plain": "0                  []\n1      [on, a, while]\n2                  []\n3          [and, now]\n4                  []\n            ...      \n255                []\n256             [out]\n257                []\n258             [out]\n259                []\nName: text, Length: 260, dtype: object"
     },
     "execution_count": 230,
     "metadata": {},
     "output_type": "execute_result"
    }
   ],
   "source": [
    "# Explore For Noise\n",
    "df['text'].apply(lambda x:nt.TextExtractor(x).extract_stopwords())"
   ],
   "metadata": {
    "collapsed": false,
    "pycharm": {
     "name": "#%%\n"
    }
   }
  },
  {
   "cell_type": "code",
   "execution_count": 231,
   "outputs": [
    {
     "data": {
      "text/plain": "['BTC_ADDRESS_REGEX',\n 'CURRENCY_REGEX',\n 'CURRENCY_SYMB_REGEX',\n 'Counter',\n 'DATE_REGEX',\n 'EMAIL_REGEX',\n 'EMOJI_REGEX',\n 'HASTAG_REGEX',\n 'MASTERCard_REGEX',\n 'MD5_SHA_REGEX',\n 'MOST_COMMON_PUNCT_REGEX',\n 'NUMBERS_REGEX',\n 'PHONE_REGEX',\n 'PoBOX_REGEX',\n 'SPECIAL_CHARACTERS_REGEX',\n 'STOPWORDS',\n 'STOPWORDS_de',\n 'STOPWORDS_en',\n 'STOPWORDS_es',\n 'STOPWORDS_fr',\n 'STOPWORDS_ru',\n 'STOPWORDS_yo',\n 'STREET_ADDRESS_REGEX',\n 'TextFrame',\n 'URL_PATTERN',\n 'USER_HANDLES_REGEX',\n 'VISACard_REGEX',\n '__builtins__',\n '__cached__',\n '__doc__',\n '__file__',\n '__generate_text',\n '__loader__',\n '__name__',\n '__numbers_dict',\n '__package__',\n '__spec__',\n '_lex_richness_herdan',\n '_lex_richness_maas_ttr',\n 'clean_text',\n 'defaultdict',\n 'digit2words',\n 'extract_btc_address',\n 'extract_currencies',\n 'extract_currency_symbols',\n 'extract_dates',\n 'extract_emails',\n 'extract_emojis',\n 'extract_hashtags',\n 'extract_html_tags',\n 'extract_mastercard_addr',\n 'extract_md5sha',\n 'extract_numbers',\n 'extract_pattern',\n 'extract_phone_numbers',\n 'extract_postoffice_box',\n 'extract_shortwords',\n 'extract_special_characters',\n 'extract_stopwords',\n 'extract_street_address',\n 'extract_terms_in_bracket',\n 'extract_urls',\n 'extract_userhandles',\n 'extract_visacard_addr',\n 'fix_contractions',\n 'generate_sentence',\n 'hamming_distance',\n 'inverse_df',\n 'lexical_richness',\n 'markov_chain',\n 'math',\n 'nlargest',\n 'normalize',\n 'num2words',\n 'random',\n 're',\n 'read_txt',\n 'remove_bad_quotes',\n 'remove_btc_address',\n 'remove_currencies',\n 'remove_currency_symbols',\n 'remove_custom_pattern',\n 'remove_custom_words',\n 'remove_dates',\n 'remove_emails',\n 'remove_emojis',\n 'remove_hashtags',\n 'remove_html_tags',\n 'remove_mastercard_addr',\n 'remove_md5sha',\n 'remove_multiple_spaces',\n 'remove_non_ascii',\n 'remove_numbers',\n 'remove_phone_numbers',\n 'remove_postoffice_box',\n 'remove_puncts',\n 'remove_punctuations',\n 'remove_shortwords',\n 'remove_special_characters',\n 'remove_stopwords',\n 'remove_street_address',\n 'remove_terms_in_bracket',\n 'remove_urls',\n 'remove_userhandles',\n 'remove_visacard_addr',\n 'replace_bad_quotes',\n 'replace_currencies',\n 'replace_currency_symbols',\n 'replace_dates',\n 'replace_emails',\n 'replace_emojis',\n 'replace_numbers',\n 'replace_phone_numbers',\n 'replace_special_characters',\n 'replace_term',\n 'replace_urls',\n 'string',\n 'term_freq',\n 'to_txt',\n 'word_freq',\n 'word_length_freq']"
     },
     "execution_count": 231,
     "metadata": {},
     "output_type": "execute_result"
    }
   ],
   "source": [
    "dir(nfx)"
   ],
   "metadata": {
    "collapsed": false,
    "pycharm": {
     "name": "#%%\n"
    }
   }
  },
  {
   "cell_type": "code",
   "execution_count": 232,
   "outputs": [
    {
     "data": {
      "text/plain": "0                  fell, persistant anterior/medial pain\n1      pain weight-bearing, tender suprapatellar area...\n2                   giving way, locking, swelling R knee\n3                medial meniscectomy locking knee? tear?\n4                                    ACL tear clinically\n                             ...                        \n255                  tibail plateau fracture, mri assess\n256                                    sarcoma rule mass\n257                                achilles rupture, mri\n258                                        rule myopathy\n259                                    fratured phalange\nName: text, Length: 260, dtype: object"
     },
     "execution_count": 232,
     "metadata": {},
     "output_type": "execute_result"
    }
   ],
   "source": [
    "# Explore For Noise\n",
    "df['text'].apply(nfx.remove_stopwords)"
   ],
   "metadata": {
    "collapsed": false,
    "pycharm": {
     "name": "#%%\n"
    }
   }
  },
  {
   "cell_type": "code",
   "execution_count": 233,
   "outputs": [],
   "source": [
    "corpus = df['text'].apply(nfx.remove_stopwords)"
   ],
   "metadata": {
    "collapsed": false,
    "pycharm": {
     "name": "#%%\n"
    }
   }
  },
  {
   "cell_type": "code",
   "execution_count": 234,
   "outputs": [],
   "source": [
    "tfidf = TfidfVectorizer()"
   ],
   "metadata": {
    "collapsed": false,
    "pycharm": {
     "name": "#%%\n"
    }
   }
  },
  {
   "cell_type": "code",
   "execution_count": 235,
   "outputs": [
    {
     "data": {
      "text/plain": "TfidfVectorizer()"
     },
     "execution_count": 235,
     "metadata": {},
     "output_type": "execute_result"
    }
   ],
   "source": [
    "tfidf"
   ],
   "metadata": {
    "collapsed": false,
    "pycharm": {
     "name": "#%%\n"
    }
   }
  },
  {
   "cell_type": "code",
   "execution_count": 236,
   "outputs": [],
   "source": [
    "# Build Features\n",
    "Xfeatures = tfidf.fit_transform(corpus).toarray()"
   ],
   "metadata": {
    "collapsed": false,
    "pycharm": {
     "name": "#%%\n"
    }
   }
  },
  {
   "cell_type": "code",
   "execution_count": 237,
   "outputs": [
    {
     "data": {
      "text/plain": "array([[0., 0., 0., ..., 0., 0., 0.],\n       [0., 0., 0., ..., 0., 0., 0.],\n       [0., 0., 0., ..., 0., 0., 0.],\n       ...,\n       [0., 0., 0., ..., 0., 0., 0.],\n       [0., 0., 0., ..., 0., 0., 0.],\n       [0., 0., 0., ..., 0., 0., 0.]])"
     },
     "execution_count": 237,
     "metadata": {},
     "output_type": "execute_result"
    }
   ],
   "source": [
    "Xfeatures"
   ],
   "metadata": {
    "collapsed": false,
    "pycharm": {
     "name": "#%%\n"
    }
   }
  },
  {
   "cell_type": "code",
   "execution_count": 238,
   "outputs": [
    {
     "data": {
      "text/plain": "                                                text label\n0              fell, persistant anterior/medial pain  knee\n1  pain on weight-bearing, tender suprapatellar a...  knee\n2               giving way, locking, swelling R knee  knee\n3    medial meniscectomy and now locking knee? tear?  knee\n4                                ACL tear clinically  knee",
      "text/html": "<div>\n<style scoped>\n    .dataframe tbody tr th:only-of-type {\n        vertical-align: middle;\n    }\n\n    .dataframe tbody tr th {\n        vertical-align: top;\n    }\n\n    .dataframe thead th {\n        text-align: right;\n    }\n</style>\n<table border=\"1\" class=\"dataframe\">\n  <thead>\n    <tr style=\"text-align: right;\">\n      <th></th>\n      <th>text</th>\n      <th>label</th>\n    </tr>\n  </thead>\n  <tbody>\n    <tr>\n      <th>0</th>\n      <td>fell, persistant anterior/medial pain</td>\n      <td>knee</td>\n    </tr>\n    <tr>\n      <th>1</th>\n      <td>pain on weight-bearing, tender suprapatellar a...</td>\n      <td>knee</td>\n    </tr>\n    <tr>\n      <th>2</th>\n      <td>giving way, locking, swelling R knee</td>\n      <td>knee</td>\n    </tr>\n    <tr>\n      <th>3</th>\n      <td>medial meniscectomy and now locking knee? tear?</td>\n      <td>knee</td>\n    </tr>\n    <tr>\n      <th>4</th>\n      <td>ACL tear clinically</td>\n      <td>knee</td>\n    </tr>\n  </tbody>\n</table>\n</div>"
     },
     "execution_count": 238,
     "metadata": {},
     "output_type": "execute_result"
    }
   ],
   "source": [
    "df.head()"
   ],
   "metadata": {
    "collapsed": false,
    "pycharm": {
     "name": "#%%\n"
    }
   }
  },
  {
   "cell_type": "code",
   "execution_count": 239,
   "outputs": [],
   "source": [
    "y = df[[\"label\"]]"
   ],
   "metadata": {
    "collapsed": false,
    "pycharm": {
     "name": "#%%\n"
    }
   }
  },
  {
   "cell_type": "code",
   "execution_count": 240,
   "outputs": [],
   "source": [
    "# Split Data\n",
    "X_train,X_test,y_train,y_test = train_test_split(Xfeatures,y,test_size=0.3,random_state=65)"
   ],
   "metadata": {
    "collapsed": false,
    "pycharm": {
     "name": "#%%\n"
    }
   }
  },
  {
   "cell_type": "code",
   "execution_count": 241,
   "outputs": [
    {
     "name": "stdout",
     "output_type": "stream",
     "text": [
      "(260,)\n",
      "(182, 737)\n"
     ]
    }
   ],
   "source": [
    "print(df['text'].shape)\n",
    "print(X_train.shape)"
   ],
   "metadata": {
    "collapsed": false,
    "pycharm": {
     "name": "#%%\n"
    }
   }
  },
  {
   "cell_type": "code",
   "execution_count": 242,
   "outputs": [
    {
     "data": {
      "text/plain": "['__builtins__',\n '__cached__',\n '__doc__',\n '__file__',\n '__loader__',\n '__name__',\n '__package__',\n '__path__',\n '__spec__',\n 'adapt',\n 'base',\n 'problem_transform',\n 'utils']"
     },
     "execution_count": 242,
     "metadata": {},
     "output_type": "execute_result"
    }
   ],
   "source": [
    "import skmultilearn\n",
    "\n",
    "dir(skmultilearn)"
   ],
   "metadata": {
    "collapsed": false,
    "pycharm": {
     "name": "#%%\n"
    }
   }
  },
  {
   "cell_type": "code",
   "execution_count": 243,
   "outputs": [],
   "source": [
    "# #Descision tree model\n",
    "# clf = DecisionTreeClassifier()\n",
    "#\n",
    "# # Train Decision Tree Classifer\n",
    "# clf = clf.fit(X_train,y_train)\n",
    "#\n",
    "# #Predict the response for test dataset\n",
    "# y_pred = clf.predict(X_test)\n",
    "#\n",
    "# print(\"Accuracy:\",accuracy_score(y_test, y_pred))"
   ],
   "metadata": {
    "collapsed": false,
    "pycharm": {
     "name": "#%%\n"
    }
   }
  },
  {
   "cell_type": "code",
   "execution_count": 244,
   "outputs": [],
   "source": [
    "# #Import Random Forest Model\n",
    "# from sklearn.ensemble import RandomForestClassifier\n",
    "#\n",
    "# #Create a Gaussian Classifier\n",
    "# clf=RandomForestClassifier()\n",
    "#\n",
    "# #Train the model using the training sets y_pred=clf.predict(X_test)\n",
    "# clf.fit(X_train,y_train)\n",
    "#\n",
    "# y_pred=clf.predict(X_test)"
   ],
   "metadata": {
    "collapsed": false,
    "pycharm": {
     "name": "#%%\n"
    }
   }
  },
  {
   "cell_type": "code",
   "execution_count": 245,
   "outputs": [],
   "source": [
    "# #Import scikit-learn metrics module for accuracy calculation\n",
    "# from sklearn import metrics\n",
    "# # Model Accuracy, how often is the classifier correct?\n",
    "# print(\"Accuracy:\",metrics.accuracy_score(y_test, y_pred))"
   ],
   "metadata": {
    "collapsed": false,
    "pycharm": {
     "name": "#%%\n"
    }
   }
  },
  {
   "cell_type": "code",
   "execution_count": 246,
   "outputs": [],
   "source": [
    "# vec_example = tfidf.transform([\"foot\"])\n",
    "# prediction = clf.predict(vec_example)\n",
    "# print(prediction)\n",
    "# # print(y_pred)"
   ],
   "metadata": {
    "collapsed": false,
    "pycharm": {
     "name": "#%%\n"
    }
   }
  },
  {
   "cell_type": "code",
   "execution_count": 247,
   "outputs": [],
   "source": [
    "def build_model(model,mlb_estimator,xtrain,ytrain,xtest,ytest):\n",
    "    # Create an Instance\n",
    "    clf = mlb_estimator(model)\n",
    "    clf.fit(xtrain,ytrain)\n",
    "    # Predict\n",
    "    clf_predictions = clf.predict(xtest)\n",
    "    # Check For Accuracy\n",
    "    acc = accuracy_score(ytest,clf_predictions)\n",
    "    ham = hamming_loss(ytest,clf_predictions)\n",
    "    result = {\"accuracy:\":acc,\"hamming_score\":ham}\n",
    "    return result"
   ],
   "metadata": {
    "collapsed": false,
    "pycharm": {
     "name": "#%%\n"
    }
   }
  },
  {
   "cell_type": "code",
   "execution_count": 248,
   "outputs": [
    {
     "ename": "TypeError",
     "evalue": "no supported conversion for types: (dtype('O'),)",
     "output_type": "error",
     "traceback": [
      "\u001B[1;31m---------------------------------------------------------------------------\u001B[0m",
      "\u001B[1;31mTypeError\u001B[0m                                 Traceback (most recent call last)",
      "File \u001B[1;32mc:\\users\\jorda\\pycharmprojects\\pythonproject\\venv\\lib\\site-packages\\scipy\\sparse\\_base.py:376\u001B[0m, in \u001B[0;36mspmatrix.asformat\u001B[1;34m(self, format, copy)\u001B[0m\n\u001B[0;32m    375\u001B[0m \u001B[38;5;28;01mtry\u001B[39;00m:\n\u001B[1;32m--> 376\u001B[0m     \u001B[38;5;28;01mreturn\u001B[39;00m \u001B[43mconvert_method\u001B[49m\u001B[43m(\u001B[49m\u001B[43mcopy\u001B[49m\u001B[38;5;241;43m=\u001B[39;49m\u001B[43mcopy\u001B[49m\u001B[43m)\u001B[49m\n\u001B[0;32m    377\u001B[0m \u001B[38;5;28;01mexcept\u001B[39;00m \u001B[38;5;167;01mTypeError\u001B[39;00m:\n",
      "File \u001B[1;32mc:\\users\\jorda\\pycharmprojects\\pythonproject\\venv\\lib\\site-packages\\scipy\\sparse\\_coo.py:361\u001B[0m, in \u001B[0;36mcoo_matrix.tocsc\u001B[1;34m(self, copy)\u001B[0m\n\u001B[0;32m    360\u001B[0m indices \u001B[38;5;241m=\u001B[39m np\u001B[38;5;241m.\u001B[39mempty_like(row, dtype\u001B[38;5;241m=\u001B[39midx_dtype)\n\u001B[1;32m--> 361\u001B[0m data \u001B[38;5;241m=\u001B[39m np\u001B[38;5;241m.\u001B[39mempty_like(\u001B[38;5;28mself\u001B[39m\u001B[38;5;241m.\u001B[39mdata, dtype\u001B[38;5;241m=\u001B[39m\u001B[43mupcast\u001B[49m\u001B[43m(\u001B[49m\u001B[38;5;28;43mself\u001B[39;49m\u001B[38;5;241;43m.\u001B[39;49m\u001B[43mdtype\u001B[49m\u001B[43m)\u001B[49m)\n\u001B[0;32m    363\u001B[0m coo_tocsr(N, M, \u001B[38;5;28mself\u001B[39m\u001B[38;5;241m.\u001B[39mnnz, col, row, \u001B[38;5;28mself\u001B[39m\u001B[38;5;241m.\u001B[39mdata,\n\u001B[0;32m    364\u001B[0m           indptr, indices, data)\n",
      "File \u001B[1;32mc:\\users\\jorda\\pycharmprojects\\pythonproject\\venv\\lib\\site-packages\\scipy\\sparse\\_sputils.py:51\u001B[0m, in \u001B[0;36mupcast\u001B[1;34m(*args)\u001B[0m\n\u001B[0;32m     49\u001B[0m         \u001B[38;5;28;01mreturn\u001B[39;00m t\n\u001B[1;32m---> 51\u001B[0m \u001B[38;5;28;01mraise\u001B[39;00m \u001B[38;5;167;01mTypeError\u001B[39;00m(\u001B[38;5;124m'\u001B[39m\u001B[38;5;124mno supported conversion for types: \u001B[39m\u001B[38;5;132;01m%r\u001B[39;00m\u001B[38;5;124m'\u001B[39m \u001B[38;5;241m%\u001B[39m (args,))\n",
      "\u001B[1;31mTypeError\u001B[0m: no supported conversion for types: (dtype('O'),)",
      "\nDuring handling of the above exception, another exception occurred:\n",
      "\u001B[1;31mTypeError\u001B[0m                                 Traceback (most recent call last)",
      "Input \u001B[1;32mIn [248]\u001B[0m, in \u001B[0;36m<cell line: 1>\u001B[1;34m()\u001B[0m\n\u001B[1;32m----> 1\u001B[0m clf_chain_model \u001B[38;5;241m=\u001B[39m \u001B[43mbuild_model\u001B[49m\u001B[43m(\u001B[49m\u001B[43mMultinomialNB\u001B[49m\u001B[43m(\u001B[49m\u001B[43m)\u001B[49m\u001B[43m,\u001B[49m\u001B[43mClassifierChain\u001B[49m\u001B[43m,\u001B[49m\u001B[43mX_train\u001B[49m\u001B[43m,\u001B[49m\u001B[43my_train\u001B[49m\u001B[43m,\u001B[49m\u001B[43mX_test\u001B[49m\u001B[43m,\u001B[49m\u001B[43my_test\u001B[49m\u001B[43m)\u001B[49m\n",
      "Input \u001B[1;32mIn [247]\u001B[0m, in \u001B[0;36mbuild_model\u001B[1;34m(model, mlb_estimator, xtrain, ytrain, xtest, ytest)\u001B[0m\n\u001B[0;32m      1\u001B[0m \u001B[38;5;28;01mdef\u001B[39;00m \u001B[38;5;21mbuild_model\u001B[39m(model,mlb_estimator,xtrain,ytrain,xtest,ytest):\n\u001B[0;32m      2\u001B[0m     \u001B[38;5;66;03m# Create an Instance\u001B[39;00m\n\u001B[0;32m      3\u001B[0m     clf \u001B[38;5;241m=\u001B[39m mlb_estimator(model)\n\u001B[1;32m----> 4\u001B[0m     \u001B[43mclf\u001B[49m\u001B[38;5;241;43m.\u001B[39;49m\u001B[43mfit\u001B[49m\u001B[43m(\u001B[49m\u001B[43mxtrain\u001B[49m\u001B[43m,\u001B[49m\u001B[43mytrain\u001B[49m\u001B[43m)\u001B[49m\n\u001B[0;32m      5\u001B[0m     \u001B[38;5;66;03m# Predict\u001B[39;00m\n\u001B[0;32m      6\u001B[0m     clf_predictions \u001B[38;5;241m=\u001B[39m clf\u001B[38;5;241m.\u001B[39mpredict(xtest)\n",
      "File \u001B[1;32mc:\\users\\jorda\\pycharmprojects\\pythonproject\\venv\\lib\\site-packages\\skmultilearn\\problem_transform\\cc.py:145\u001B[0m, in \u001B[0;36mClassifierChain.fit\u001B[1;34m(self, X, y, order)\u001B[0m\n\u001B[0;32m    141\u001B[0m \u001B[38;5;66;03m# fit L = len(y[0]) BR classifiers h_i\u001B[39;00m\n\u001B[0;32m    142\u001B[0m \u001B[38;5;66;03m# on X + y[:i] as input space and y[i+1] as output\u001B[39;00m\n\u001B[0;32m    144\u001B[0m X_extended \u001B[38;5;241m=\u001B[39m \u001B[38;5;28mself\u001B[39m\u001B[38;5;241m.\u001B[39m_ensure_input_format(X, sparse_format\u001B[38;5;241m=\u001B[39m\u001B[38;5;124m'\u001B[39m\u001B[38;5;124mcsc\u001B[39m\u001B[38;5;124m'\u001B[39m, enforce_sparse\u001B[38;5;241m=\u001B[39m\u001B[38;5;28;01mTrue\u001B[39;00m)\n\u001B[1;32m--> 145\u001B[0m y \u001B[38;5;241m=\u001B[39m \u001B[38;5;28;43mself\u001B[39;49m\u001B[38;5;241;43m.\u001B[39;49m\u001B[43m_ensure_output_format\u001B[49m\u001B[43m(\u001B[49m\u001B[43my\u001B[49m\u001B[43m,\u001B[49m\u001B[43m \u001B[49m\u001B[43msparse_format\u001B[49m\u001B[38;5;241;43m=\u001B[39;49m\u001B[38;5;124;43m'\u001B[39;49m\u001B[38;5;124;43mcsc\u001B[39;49m\u001B[38;5;124;43m'\u001B[39;49m\u001B[43m,\u001B[49m\u001B[43m \u001B[49m\u001B[43menforce_sparse\u001B[49m\u001B[38;5;241;43m=\u001B[39;49m\u001B[38;5;28;43;01mTrue\u001B[39;49;00m\u001B[43m)\u001B[49m\n\u001B[0;32m    147\u001B[0m \u001B[38;5;28mself\u001B[39m\u001B[38;5;241m.\u001B[39m_label_count \u001B[38;5;241m=\u001B[39m y\u001B[38;5;241m.\u001B[39mshape[\u001B[38;5;241m1\u001B[39m]\n\u001B[0;32m    148\u001B[0m \u001B[38;5;28mself\u001B[39m\u001B[38;5;241m.\u001B[39mclassifiers_ \u001B[38;5;241m=\u001B[39m [\u001B[38;5;28;01mNone\u001B[39;00m \u001B[38;5;28;01mfor\u001B[39;00m x \u001B[38;5;129;01min\u001B[39;00m \u001B[38;5;28mrange\u001B[39m(\u001B[38;5;28mself\u001B[39m\u001B[38;5;241m.\u001B[39m_label_count)]\n",
      "File \u001B[1;32mc:\\users\\jorda\\pycharmprojects\\pythonproject\\venv\\lib\\site-packages\\skmultilearn\\base\\base.py:157\u001B[0m, in \u001B[0;36mMLClassifierBase._ensure_output_format\u001B[1;34m(self, matrix, sparse_format, enforce_sparse)\u001B[0m\n\u001B[0;32m    155\u001B[0m \u001B[38;5;28;01mif\u001B[39;00m \u001B[38;5;28mlen\u001B[39m(matrix\u001B[38;5;241m.\u001B[39mshape) \u001B[38;5;241m==\u001B[39m \u001B[38;5;241m1\u001B[39m:\n\u001B[0;32m    156\u001B[0m     matrix \u001B[38;5;241m=\u001B[39m matrix\u001B[38;5;241m.\u001B[39mreshape((matrix\u001B[38;5;241m.\u001B[39mshape[\u001B[38;5;241m0\u001B[39m], \u001B[38;5;241m1\u001B[39m))\n\u001B[1;32m--> 157\u001B[0m \u001B[38;5;28;01mreturn\u001B[39;00m \u001B[43mmatrix_creation_function_for_format\u001B[49m\u001B[43m(\u001B[49m\u001B[43msparse_format\u001B[49m\u001B[43m)\u001B[49m\u001B[43m(\u001B[49m\u001B[43mmatrix\u001B[49m\u001B[43m)\u001B[49m\n",
      "File \u001B[1;32mc:\\users\\jorda\\pycharmprojects\\pythonproject\\venv\\lib\\site-packages\\scipy\\sparse\\_compressed.py:84\u001B[0m, in \u001B[0;36m_cs_matrix.__init__\u001B[1;34m(self, arg1, shape, dtype, copy)\u001B[0m\n\u001B[0;32m     81\u001B[0m     \u001B[38;5;28;01mexcept\u001B[39;00m \u001B[38;5;167;01mException\u001B[39;00m \u001B[38;5;28;01mas\u001B[39;00m e:\n\u001B[0;32m     82\u001B[0m         \u001B[38;5;28;01mraise\u001B[39;00m \u001B[38;5;167;01mValueError\u001B[39;00m(\u001B[38;5;124m\"\u001B[39m\u001B[38;5;124munrecognized \u001B[39m\u001B[38;5;132;01m{}\u001B[39;00m\u001B[38;5;124m_matrix constructor usage\u001B[39m\u001B[38;5;124m\"\u001B[39m\n\u001B[0;32m     83\u001B[0m                          \u001B[38;5;124m\"\u001B[39m\u001B[38;5;124m\"\u001B[39m\u001B[38;5;241m.\u001B[39mformat(\u001B[38;5;28mself\u001B[39m\u001B[38;5;241m.\u001B[39mformat)) \u001B[38;5;28;01mfrom\u001B[39;00m \u001B[38;5;21;01me\u001B[39;00m\n\u001B[1;32m---> 84\u001B[0m     \u001B[38;5;28mself\u001B[39m\u001B[38;5;241m.\u001B[39m_set_self(\u001B[38;5;28;43mself\u001B[39;49m\u001B[38;5;241;43m.\u001B[39;49m\u001B[38;5;18;43m__class__\u001B[39;49m\u001B[43m(\u001B[49m\n\u001B[0;32m     85\u001B[0m \u001B[43m        \u001B[49m\u001B[38;5;28;43mself\u001B[39;49m\u001B[38;5;241;43m.\u001B[39;49m\u001B[43m_coo_container\u001B[49m\u001B[43m(\u001B[49m\u001B[43marg1\u001B[49m\u001B[43m,\u001B[49m\u001B[43m \u001B[49m\u001B[43mdtype\u001B[49m\u001B[38;5;241;43m=\u001B[39;49m\u001B[43mdtype\u001B[49m\u001B[43m)\u001B[49m\n\u001B[0;32m     86\u001B[0m \u001B[43m    \u001B[49m\u001B[43m)\u001B[49m)\n\u001B[0;32m     88\u001B[0m \u001B[38;5;66;03m# Read matrix dimensions given, if any\u001B[39;00m\n\u001B[0;32m     89\u001B[0m \u001B[38;5;28;01mif\u001B[39;00m shape \u001B[38;5;129;01mis\u001B[39;00m \u001B[38;5;129;01mnot\u001B[39;00m \u001B[38;5;28;01mNone\u001B[39;00m:\n",
      "File \u001B[1;32mc:\\users\\jorda\\pycharmprojects\\pythonproject\\venv\\lib\\site-packages\\scipy\\sparse\\_compressed.py:33\u001B[0m, in \u001B[0;36m_cs_matrix.__init__\u001B[1;34m(self, arg1, shape, dtype, copy)\u001B[0m\n\u001B[0;32m     31\u001B[0m         arg1 \u001B[38;5;241m=\u001B[39m arg1\u001B[38;5;241m.\u001B[39mcopy()\n\u001B[0;32m     32\u001B[0m     \u001B[38;5;28;01melse\u001B[39;00m:\n\u001B[1;32m---> 33\u001B[0m         arg1 \u001B[38;5;241m=\u001B[39m \u001B[43marg1\u001B[49m\u001B[38;5;241;43m.\u001B[39;49m\u001B[43masformat\u001B[49m\u001B[43m(\u001B[49m\u001B[38;5;28;43mself\u001B[39;49m\u001B[38;5;241;43m.\u001B[39;49m\u001B[43mformat\u001B[49m\u001B[43m)\u001B[49m\n\u001B[0;32m     34\u001B[0m     \u001B[38;5;28mself\u001B[39m\u001B[38;5;241m.\u001B[39m_set_self(arg1)\n\u001B[0;32m     36\u001B[0m \u001B[38;5;28;01melif\u001B[39;00m \u001B[38;5;28misinstance\u001B[39m(arg1, \u001B[38;5;28mtuple\u001B[39m):\n",
      "File \u001B[1;32mc:\\users\\jorda\\pycharmprojects\\pythonproject\\venv\\lib\\site-packages\\scipy\\sparse\\_base.py:378\u001B[0m, in \u001B[0;36mspmatrix.asformat\u001B[1;34m(self, format, copy)\u001B[0m\n\u001B[0;32m    376\u001B[0m     \u001B[38;5;28;01mreturn\u001B[39;00m convert_method(copy\u001B[38;5;241m=\u001B[39mcopy)\n\u001B[0;32m    377\u001B[0m \u001B[38;5;28;01mexcept\u001B[39;00m \u001B[38;5;167;01mTypeError\u001B[39;00m:\n\u001B[1;32m--> 378\u001B[0m     \u001B[38;5;28;01mreturn\u001B[39;00m \u001B[43mconvert_method\u001B[49m\u001B[43m(\u001B[49m\u001B[43m)\u001B[49m\n",
      "File \u001B[1;32mc:\\users\\jorda\\pycharmprojects\\pythonproject\\venv\\lib\\site-packages\\scipy\\sparse\\_coo.py:361\u001B[0m, in \u001B[0;36mcoo_matrix.tocsc\u001B[1;34m(self, copy)\u001B[0m\n\u001B[0;32m    359\u001B[0m indptr \u001B[38;5;241m=\u001B[39m np\u001B[38;5;241m.\u001B[39mempty(N \u001B[38;5;241m+\u001B[39m \u001B[38;5;241m1\u001B[39m, dtype\u001B[38;5;241m=\u001B[39midx_dtype)\n\u001B[0;32m    360\u001B[0m indices \u001B[38;5;241m=\u001B[39m np\u001B[38;5;241m.\u001B[39mempty_like(row, dtype\u001B[38;5;241m=\u001B[39midx_dtype)\n\u001B[1;32m--> 361\u001B[0m data \u001B[38;5;241m=\u001B[39m np\u001B[38;5;241m.\u001B[39mempty_like(\u001B[38;5;28mself\u001B[39m\u001B[38;5;241m.\u001B[39mdata, dtype\u001B[38;5;241m=\u001B[39m\u001B[43mupcast\u001B[49m\u001B[43m(\u001B[49m\u001B[38;5;28;43mself\u001B[39;49m\u001B[38;5;241;43m.\u001B[39;49m\u001B[43mdtype\u001B[49m\u001B[43m)\u001B[49m)\n\u001B[0;32m    363\u001B[0m coo_tocsr(N, M, \u001B[38;5;28mself\u001B[39m\u001B[38;5;241m.\u001B[39mnnz, col, row, \u001B[38;5;28mself\u001B[39m\u001B[38;5;241m.\u001B[39mdata,\n\u001B[0;32m    364\u001B[0m           indptr, indices, data)\n\u001B[0;32m    366\u001B[0m x \u001B[38;5;241m=\u001B[39m \u001B[38;5;28mself\u001B[39m\u001B[38;5;241m.\u001B[39m_csc_container((data, indices, indptr), shape\u001B[38;5;241m=\u001B[39m\u001B[38;5;28mself\u001B[39m\u001B[38;5;241m.\u001B[39mshape)\n",
      "File \u001B[1;32mc:\\users\\jorda\\pycharmprojects\\pythonproject\\venv\\lib\\site-packages\\scipy\\sparse\\_sputils.py:51\u001B[0m, in \u001B[0;36mupcast\u001B[1;34m(*args)\u001B[0m\n\u001B[0;32m     48\u001B[0m         _upcast_memo[\u001B[38;5;28mhash\u001B[39m(args)] \u001B[38;5;241m=\u001B[39m t\n\u001B[0;32m     49\u001B[0m         \u001B[38;5;28;01mreturn\u001B[39;00m t\n\u001B[1;32m---> 51\u001B[0m \u001B[38;5;28;01mraise\u001B[39;00m \u001B[38;5;167;01mTypeError\u001B[39;00m(\u001B[38;5;124m'\u001B[39m\u001B[38;5;124mno supported conversion for types: \u001B[39m\u001B[38;5;132;01m%r\u001B[39;00m\u001B[38;5;124m'\u001B[39m \u001B[38;5;241m%\u001B[39m (args,))\n",
      "\u001B[1;31mTypeError\u001B[0m: no supported conversion for types: (dtype('O'),)"
     ]
    }
   ],
   "source": [
    "clf_chain_model = build_model(MultinomialNB(),ClassifierChain,X_train,y_train,X_test,y_test)"
   ],
   "metadata": {
    "collapsed": false,
    "pycharm": {
     "name": "#%%\n"
    }
   }
  }
 ],
 "metadata": {
  "kernelspec": {
   "display_name": "Python 3",
   "language": "python",
   "name": "python3"
  },
  "language_info": {
   "codemirror_mode": {
    "name": "ipython",
    "version": 2
   },
   "file_extension": ".py",
   "mimetype": "text/x-python",
   "name": "python",
   "nbconvert_exporter": "python",
   "pygments_lexer": "ipython2",
   "version": "2.7.6"
  }
 },
 "nbformat": 4,
 "nbformat_minor": 0
}